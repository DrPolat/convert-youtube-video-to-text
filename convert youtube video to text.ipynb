{
  "nbformat": 4,
  "nbformat_minor": 0,
  "metadata": {
    "colab": {
      "provenance": []
    },
    "kernelspec": {
      "name": "python3",
      "display_name": "Python 3"
    },
    "language_info": {
      "name": "python"
    }
  },
  "cells": [
    {
      "cell_type": "code",
      "source": [
        "pip install pytube"
      ],
      "metadata": {
        "colab": {
          "base_uri": "https://localhost:8080/"
        },
        "id": "0wBndMYfu12B",
        "outputId": "c11084fd-c92f-4252-afa7-72df5f48cb06"
      },
      "execution_count": 6,
      "outputs": [
        {
          "output_type": "stream",
          "name": "stdout",
          "text": [
            "Collecting pytube\n",
            "  Downloading pytube-15.0.0-py3-none-any.whl (57 kB)\n",
            "\u001b[?25l     \u001b[90m━━━━━━━━━━━━━━━━━━━━━━━━━━━━━━━━━━━━━━━━\u001b[0m \u001b[32m0.0/57.6 kB\u001b[0m \u001b[31m?\u001b[0m eta \u001b[36m-:--:--\u001b[0m\r\u001b[2K     \u001b[91m━━━━━━━━━━━━━━━━━━━━━━━━━━━━━━━━━━━\u001b[0m\u001b[91m╸\u001b[0m\u001b[90m━━━━\u001b[0m \u001b[32m51.2/57.6 kB\u001b[0m \u001b[31m1.6 MB/s\u001b[0m eta \u001b[36m0:00:01\u001b[0m\r\u001b[2K     \u001b[90m━━━━━━━━━━━━━━━━━━━━━━━━━━━━━━━━━━━━━━━━\u001b[0m \u001b[32m57.6/57.6 kB\u001b[0m \u001b[31m1.3 MB/s\u001b[0m eta \u001b[36m0:00:00\u001b[0m\n",
            "\u001b[?25hInstalling collected packages: pytube\n",
            "Successfully installed pytube-15.0.0\n"
          ]
        }
      ]
    },
    {
      "cell_type": "code",
      "source": [
        "from pytube import YouTube\n",
        "\n",
        "def download_youtube_audio(video_url):\n",
        "    yt = YouTube(video_url)\n",
        "    stream = yt.streams.filter(only_audio=True).first()\n",
        "    audio_file_path = yt.title + \".mp3\"  # Output audio file path\n",
        "\n",
        "    stream.download(filename=audio_file_path)\n",
        "\n",
        "    return audio_file_path\n",
        "\n",
        "# Main code flow\n",
        "video_url = \"https://www.youtube.com/watch?v=GxyjWhz5VT0\"\n",
        "audio_file_path = download_youtube_audio(video_url)"
      ],
      "metadata": {
        "id": "0MI21RmMwNpi"
      },
      "execution_count": 12,
      "outputs": []
    },
    {
      "cell_type": "code",
      "source": [
        "from pytube import YouTube\n",
        "\n",
        "def download_youtube_audio(video_url):\n",
        "    yt = YouTube(video_url)\n",
        "    stream = yt.streams.filter(only_audio=True).first()\n",
        "    audio_file_path = yt.title + \".webm\"  # Output audio file path\n",
        "\n",
        "    stream.download(filename=audio_file_path)\n",
        "\n",
        "    return audio_file_path\n",
        "\n",
        "# Main code flow\n",
        "video_url = \"https://www.youtube.com/watch?v=GxyjWhz5VT0\"\n",
        "audio_file_path = download_youtube_audio(video_url)"
      ],
      "metadata": {
        "id": "u88kqzTMz0vp"
      },
      "execution_count": null,
      "outputs": []
    },
    {
      "cell_type": "code",
      "source": [
        "from pytube import YouTube\n",
        "\n",
        "def download_youtube_audio(video_url):\n",
        "    yt = YouTube(video_url)\n",
        "    stream = yt.streams.filter(only_audio=True).first()\n",
        "    audio_file_path = yt.title + \".wav\"  # Output audio file path\n",
        "\n",
        "    stream.download(filename=audio_file_path)\n",
        "\n",
        "    return audio_file_path\n",
        "\n",
        "# Main code flow\n",
        "video_url = \"https://www.youtube.com/watch?v=GxyjWhz5VT0\"\n",
        "audio_file_path = download_youtube_audio(video_url)"
      ],
      "metadata": {
        "id": "Lxg4GCMOz6sH"
      },
      "execution_count": null,
      "outputs": []
    },
    {
      "cell_type": "code",
      "source": [
        "pip install pocketsphinx"
      ],
      "metadata": {
        "colab": {
          "base_uri": "https://localhost:8080/"
        },
        "id": "YxwRi_MY7O1q",
        "outputId": "0222dadb-4340-493d-913b-55b51e3565b2"
      },
      "execution_count": 24,
      "outputs": [
        {
          "output_type": "stream",
          "name": "stdout",
          "text": [
            "Collecting pocketsphinx\n",
            "  Downloading pocketsphinx-5.0.2-cp310-cp310-manylinux_2_17_x86_64.manylinux2014_x86_64.whl (29.2 MB)\n",
            "\u001b[2K     \u001b[90m━━━━━━━━━━━━━━━━━━━━━━━━━━━━━━━━━━━━━━━━\u001b[0m \u001b[32m29.2/29.2 MB\u001b[0m \u001b[31m11.1 MB/s\u001b[0m eta \u001b[36m0:00:00\u001b[0m\n",
            "\u001b[?25hCollecting sounddevice (from pocketsphinx)\n",
            "  Downloading sounddevice-0.4.6-py3-none-any.whl (31 kB)\n",
            "Requirement already satisfied: CFFI>=1.0 in /usr/local/lib/python3.10/dist-packages (from sounddevice->pocketsphinx) (1.15.1)\n",
            "Requirement already satisfied: pycparser in /usr/local/lib/python3.10/dist-packages (from CFFI>=1.0->sounddevice->pocketsphinx) (2.21)\n",
            "Installing collected packages: sounddevice, pocketsphinx\n",
            "Successfully installed pocketsphinx-5.0.2 sounddevice-0.4.6\n"
          ]
        }
      ]
    },
    {
      "cell_type": "code",
      "source": [
        "#for convert to text, we use \".wav\" format file\n",
        "import speech_recognition as sr\n",
        "\n",
        "# Initialize the recognizer\n",
        "r = sr.Recognizer()\n",
        "\n",
        "# Load the audio file\n",
        "audio_file = \"/content/What Was Earth Like Before the Dinosaurs?.wav\"\n",
        "\n",
        "# Read the audio file\n",
        "with sr.AudioFile(audio_file) as source:\n",
        "    audio = r.record(source)\n",
        "\n",
        "# Recognize the speech using CMU Sphinx\n",
        "text = r.recognize_sphinx(audio)\n",
        "\n",
        "# Print the recognized text\n",
        "print(text)\n"
      ],
      "metadata": {
        "colab": {
          "base_uri": "https://localhost:8080/"
        },
        "id": "7seA2TGp6Rcs",
        "outputId": "d4534088-de5e-4ace-98c5-35187db01fa3"
      },
      "execution_count": 25,
      "outputs": [
        {
          "output_type": "stream",
          "name": "stdout",
          "text": [
            "millions of years ago garth looked fairy tale for it all the continents were fused into one teeming with life both beautiful and purifying when you think of prehistoric times you like picture a t. rex rampaging through the jungle with razor sharp teeth but even before the dinosaurs there were other giant creatures rule in your yeah welcome to the podium period this epic started three hundred million years ago back then our planet had won super conduct and he saw rounded by the world ocean cold hand fell last though how we in period began at the end of an ice age when temperatures were much cooler than today then during the ruling permian days are warmed to a life environment with diversity of plants in a rapid evolution of the insect and animal life only as you probably know everything is ever changing on our blue marble over the next fifty million years will if kept growing hotter and dryer eventually the most deadly of that to the history of our planet wiped out nearly everything they've ever lived here scientists call this event the only guy in it was the most catastrophic mass extinction event the earth has ever seen and the brute this seemed five of them blood before we get to all this doom and gloom let me take you on an epic journey back in time here in the permian period some of the most incredible species that roamed our young planted or go to merge its soul if you could time travel nearly three hundred million years into the past huge lead smack dab in the middle of the super conan to change yeah birth smaller conference was just finished colliding with each other to form this enormous landmass digging up one third of the planet's surface there was likely less oxygen in the year than there is now what he is still might be that we have and when the jacket because it would likely be chilly with some areas averaging no more than a risk for degrees celsius blood don't worry things will soon start eating up by the end of the early permian the ice age was on its way out in congealed becoming the lush world plants and animals started to thrive as eked this was a volcanic world violate the russians change the climate change the landscape and pave the way for evolution when giant swamp forests began drawing up let life had to adapt and salt two hundred and ninety million years ago relief so the very first feed their implants gold's gym those terms these plants kiri concedes on the combs in the spread across the super carnage like wildfire the ancient evergreen forest of the early permian was hiding something familiar just like today you could find suitcases and beatles piercing sucking on the plants in the cutest um all cockroaches only these wicked cockroaches you know today these prehistoric fuhrman were gigantic the size of words what despite their size cockroaches never ruled prehistoric landed that's good news alert no something much more fascinating was swimming can't yet been alex didn't ancestor of primitive mammals die metrodome this animal was as fascinating as it was terrifying encountering the guy met for don would be quite a sight to behold outfits ancient wizard grew to five meters long and weigh two hundred and twenty five kilograms the hell large scale running down the spine scientists think this sale help the reptile regulated body temperature soaking up warmth during the daytime and dissipating excess heat during the cooler nights you walk toward you like a crocodile and act like a total mess die metrodome was an apex predator of its time what job for a mix of sharpened black teeth it would slice you open and why you out it's spooked and the middle proving period other miller like reptiles took over the planet so wax its they had strong jobs with sharp teeth in a somewhat perplexed it's thanks to their legs being situated underneath their bodies thoracic reptiles varied from the five meter long likely omnivorous to restore us to the five times smaller meeting like an ox you could be plenty more to rack suits if you stick around for another twenty million years during the middle of the period our kept getting hotter the average global temperature on plenty of room to about twenty five degrees celsius and volcanoes worse than greenhouse gases that in the atmosphere to that changing climate sea levels were shifting would rely found ways to thrive if you were to take a hit in the prehistoric super ocean view the swimming alongside each and sharks and only primitive fish many more complex marine species came and went as the environment kept changing it's sucked in the lead permian period you could have a friendly encounter with another reptile mistress or else he's looked like a cross between a lizard in the hague but unlike all this jury prehistoric monsters of their lives for sorus was over before it was just one meter long and powerful front legs for borrowing soon another tube mammal like lizard will sign it dawned decided on looked like a giant wound to the boat one the long had whiskers and that on small animals and insects that during this time something that was brewing in the year large amount of volcanic activity was displacing oxygen from the atmosphere scientists think that was as little as ten percent oxygen year compare that to twenty one percent today you have a hard time believing that environment and the temperature kept rising and rising with an average temperature of about twenty eight degrees celsius this rush to restore moral was pouring into one of the costs are all good things must come to an end and sadly this period came to a particularly brutal one of the two hundred and fifty two million years ago about ninety percent of all plant and animal life was wiped out this tragic moment is called the green donny and it was worth most devastating mass extinction of that scientists still debate what caused this catastrophic extinction most theories suggest he was the result of explosive volcanic activity has huge volcanic russians when the convent massive amounts of cash were unleashed in the atmosphere so much ash that the block that most is that all of the incoming sunlight and with no sunlight global temperatures drop suddenly plants can perform their full of synthetic processes and died off and without a glance the very basis of the food chain animals soon follow things got worse before they got better because of all the carbon dioxide amid during the volcanic russians global temperatures rose again and not just to where they were with high here much higher than this caused the super ocean to lose most of it's oxygen and unable to believe a majority of the permian see animals parish gradually over ninety five percent of baleen species and more than seventy percent of land animals can withstand this mass extinction of them could make you sad enough to one of wingback all the animals that have ever gone away dinosaurs to fly that for another what\n"
          ]
        }
      ]
    },
    {
      "cell_type": "code",
      "source": [
        "text"
      ],
      "metadata": {
        "colab": {
          "base_uri": "https://localhost:8080/",
          "height": 851
        },
        "id": "KwL1eeam8pY6",
        "outputId": "c43a57cd-04f8-4701-f9be-c47a53512c41"
      },
      "execution_count": 26,
      "outputs": [
        {
          "output_type": "execute_result",
          "data": {
            "text/plain": [
              "\"millions of years ago garth looked fairy tale for it all the continents were fused into one teeming with life both beautiful and purifying when you think of prehistoric times you like picture a t. rex rampaging through the jungle with razor sharp teeth but even before the dinosaurs there were other giant creatures rule in your yeah welcome to the podium period this epic started three hundred million years ago back then our planet had won super conduct and he saw rounded by the world ocean cold hand fell last though how we in period began at the end of an ice age when temperatures were much cooler than today then during the ruling permian days are warmed to a life environment with diversity of plants in a rapid evolution of the insect and animal life only as you probably know everything is ever changing on our blue marble over the next fifty million years will if kept growing hotter and dryer eventually the most deadly of that to the history of our planet wiped out nearly everything they've ever lived here scientists call this event the only guy in it was the most catastrophic mass extinction event the earth has ever seen and the brute this seemed five of them blood before we get to all this doom and gloom let me take you on an epic journey back in time here in the permian period some of the most incredible species that roamed our young planted or go to merge its soul if you could time travel nearly three hundred million years into the past huge lead smack dab in the middle of the super conan to change yeah birth smaller conference was just finished colliding with each other to form this enormous landmass digging up one third of the planet's surface there was likely less oxygen in the year than there is now what he is still might be that we have and when the jacket because it would likely be chilly with some areas averaging no more than a risk for degrees celsius blood don't worry things will soon start eating up by the end of the early permian the ice age was on its way out in congealed becoming the lush world plants and animals started to thrive as eked this was a volcanic world violate the russians change the climate change the landscape and pave the way for evolution when giant swamp forests began drawing up let life had to adapt and salt two hundred and ninety million years ago relief so the very first feed their implants gold's gym those terms these plants kiri concedes on the combs in the spread across the super carnage like wildfire the ancient evergreen forest of the early permian was hiding something familiar just like today you could find suitcases and beatles piercing sucking on the plants in the cutest um all cockroaches only these wicked cockroaches you know today these prehistoric fuhrman were gigantic the size of words what despite their size cockroaches never ruled prehistoric landed that's good news alert no something much more fascinating was swimming can't yet been alex didn't ancestor of primitive mammals die metrodome this animal was as fascinating as it was terrifying encountering the guy met for don would be quite a sight to behold outfits ancient wizard grew to five meters long and weigh two hundred and twenty five kilograms the hell large scale running down the spine scientists think this sale help the reptile regulated body temperature soaking up warmth during the daytime and dissipating excess heat during the cooler nights you walk toward you like a crocodile and act like a total mess die metrodome was an apex predator of its time what job for a mix of sharpened black teeth it would slice you open and why you out it's spooked and the middle proving period other miller like reptiles took over the planet so wax its they had strong jobs with sharp teeth in a somewhat perplexed it's thanks to their legs being situated underneath their bodies thoracic reptiles varied from the five meter long likely omnivorous to restore us to the five times smaller meeting like an ox you could be plenty more to rack suits if you stick around for another twenty million years during the middle of the period our kept getting hotter the average global temperature on plenty of room to about twenty five degrees celsius and volcanoes worse than greenhouse gases that in the atmosphere to that changing climate sea levels were shifting would rely found ways to thrive if you were to take a hit in the prehistoric super ocean view the swimming alongside each and sharks and only primitive fish many more complex marine species came and went as the environment kept changing it's sucked in the lead permian period you could have a friendly encounter with another reptile mistress or else he's looked like a cross between a lizard in the hague but unlike all this jury prehistoric monsters of their lives for sorus was over before it was just one meter long and powerful front legs for borrowing soon another tube mammal like lizard will sign it dawned decided on looked like a giant wound to the boat one the long had whiskers and that on small animals and insects that during this time something that was brewing in the year large amount of volcanic activity was displacing oxygen from the atmosphere scientists think that was as little as ten percent oxygen year compare that to twenty one percent today you have a hard time believing that environment and the temperature kept rising and rising with an average temperature of about twenty eight degrees celsius this rush to restore moral was pouring into one of the costs are all good things must come to an end and sadly this period came to a particularly brutal one of the two hundred and fifty two million years ago about ninety percent of all plant and animal life was wiped out this tragic moment is called the green donny and it was worth most devastating mass extinction of that scientists still debate what caused this catastrophic extinction most theories suggest he was the result of explosive volcanic activity has huge volcanic russians when the convent massive amounts of cash were unleashed in the atmosphere so much ash that the block that most is that all of the incoming sunlight and with no sunlight global temperatures drop suddenly plants can perform their full of synthetic processes and died off and without a glance the very basis of the food chain animals soon follow things got worse before they got better because of all the carbon dioxide amid during the volcanic russians global temperatures rose again and not just to where they were with high here much higher than this caused the super ocean to lose most of it's oxygen and unable to believe a majority of the permian see animals parish gradually over ninety five percent of baleen species and more than seventy percent of land animals can withstand this mass extinction of them could make you sad enough to one of wingback all the animals that have ever gone away dinosaurs to fly that for another what\""
            ],
            "application/vnd.google.colaboratory.intrinsic+json": {
              "type": "string"
            }
          },
          "metadata": {},
          "execution_count": 26
        }
      ]
    }
  ]
}